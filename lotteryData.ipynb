{
 "cells": [
  {
   "cell_type": "code",
   "execution_count": 13,
   "metadata": {},
   "outputs": [],
   "source": [
    "#import dependencies \n",
    "import pandas as pd\n",
    "from bs4 import BeautifulSoup as bs\n",
    "from splinter import Browser\n",
    "import requests\n",
    "# import pymongo"
   ]
  },
  {
   "cell_type": "code",
   "execution_count": 14,
   "metadata": {
    "scrolled": true
   },
   "outputs": [
    {
     "data": {
      "text/plain": [
       "[<table class=\"datatable past_results\">\n",
       " <caption><span class=\"icon-svg-star\"></span> <span id=\"ctl00_MainContent_lblMonth\">Last 10 Draws</span> <span id=\"ctl00_MainContent_lblYear\"></span></caption>\n",
       " <thead>\n",
       " <tr>\n",
       " <th>Date</th>\n",
       " <th>Numbers</th>\n",
       " <th>Jackpot*</th>\n",
       " <th></th>\n",
       " </tr>\n",
       " </thead>\n",
       " <tfoot>\n",
       " <tr>\n",
       " <td colspan=\"2\">You may download a CSV file of past draws <a href=\"PowerballDownload\">here</a>.</td>\n",
       " <td colspan=\"2\">*Jackpot amount won or rollover amount at time of drawing.</td>\n",
       " </tr>\n",
       " </tfoot>\n",
       " <tbody>\n",
       " <tr>\n",
       " <td>Nov 11, 2020</td>\n",
       " <td><span>13</span><span>15</span><span>17</span><span>45</span><span>63</span><span class=\"PowerRed\">13</span><span class=\"powerplay\">x2</span></td>\n",
       " <td>$156,500,000</td>\n",
       " <td><a class=\"continue\" href=\"Powerball?dd=11/11/2020\"></a></td>\n",
       " </tr>\n",
       " <tr>\n",
       " <td>Nov 7, 2020</td>\n",
       " <td><span>14</span><span>16</span><span>37</span><span>48</span><span>58</span><span class=\"PowerRed\">18</span><span class=\"powerplay\">x2</span></td>\n",
       " <td>$146,600,000</td>\n",
       " <td><a class=\"continue\" href=\"Powerball?dd=11/07/2020\"></a></td>\n",
       " </tr>\n",
       " <tr>\n",
       " <td>Nov 4, 2020</td>\n",
       " <td><span>23</span><span>32</span><span>33</span><span>45</span><span>49</span><span class=\"PowerRed\">14</span><span class=\"powerplay\">x2</span></td>\n",
       " <td>$136,500,000</td>\n",
       " <td><a class=\"continue\" href=\"Powerball?dd=11/04/2020\"></a></td>\n",
       " </tr>\n",
       " <tr>\n",
       " <td>Oct 31, 2020</td>\n",
       " <td><span>2</span><span>6</span><span>40</span><span>42</span><span>55</span><span class=\"PowerRed\">24</span><span class=\"powerplay\">x3</span></td>\n",
       " <td>$126,800,000</td>\n",
       " <td><a class=\"continue\" href=\"Powerball?dd=10/31/2020\"></a></td>\n",
       " </tr>\n",
       " <tr>\n",
       " <td>Oct 28, 2020</td>\n",
       " <td><span>11</span><span>28</span><span>37</span><span>40</span><span>53</span><span class=\"PowerRed\">13</span><span class=\"powerplay\">x2</span></td>\n",
       " <td>$116,400,000</td>\n",
       " <td><a class=\"continue\" href=\"Powerball?dd=10/28/2020\"></a></td>\n",
       " </tr>\n",
       " <tr>\n",
       " <td>Oct 24, 2020</td>\n",
       " <td><span>18</span><span>20</span><span>27</span><span>45</span><span>65</span><span class=\"PowerRed\">6</span><span class=\"powerplay\">x2</span></td>\n",
       " <td>$105,700,000</td>\n",
       " <td><a class=\"continue\" href=\"Powerball?dd=10/24/2020\"></a></td>\n",
       " </tr>\n",
       " <tr>\n",
       " <td>Oct 21, 2020</td>\n",
       " <td><span>1</span><span>3</span><span>13</span><span>44</span><span>56</span><span class=\"PowerRed\">26</span><span class=\"powerplay\">x3</span></td>\n",
       " <td>$91,600,000</td>\n",
       " <td><a class=\"continue\" href=\"Powerball?dd=10/21/2020\"></a></td>\n",
       " </tr>\n",
       " <tr>\n",
       " <td>Oct 17, 2020</td>\n",
       " <td><span>6</span><span>10</span><span>31</span><span>37</span><span>44</span><span class=\"PowerRed\">23</span><span class=\"powerplay\">x2</span></td>\n",
       " <td>$81,900,000</td>\n",
       " <td><a class=\"continue\" href=\"Powerball?dd=10/17/2020\"></a></td>\n",
       " </tr>\n",
       " <tr>\n",
       " <td>Oct 14, 2020</td>\n",
       " <td><span>21</span><span>37</span><span>52</span><span>53</span><span>58</span><span class=\"PowerRed\">5</span><span class=\"powerplay\">x2</span></td>\n",
       " <td>$72,300,000</td>\n",
       " <td><a class=\"continue\" href=\"Powerball?dd=10/14/2020\"></a></td>\n",
       " </tr>\n",
       " <tr>\n",
       " <td>Oct 10, 2020</td>\n",
       " <td><span>5</span><span>18</span><span>23</span><span>40</span><span>50</span><span class=\"PowerRed\">18</span><span class=\"powerplay\">x3</span></td>\n",
       " <td>$63,200,000</td>\n",
       " <td><a class=\"continue\" href=\"Powerball?dd=10/10/2020\"></a></td>\n",
       " </tr>\n",
       " </tbody>\n",
       " </table>]"
      ]
     },
     "execution_count": 14,
     "metadata": {},
     "output_type": "execute_result"
    }
   ],
   "source": [
    "#Array created to collect list of past numbers for the past 12 months\n",
    "pastNumbers = []\n",
    "#Array containing the months being evaluated in the data\n",
    "months = ['January', 'February','March','April','May','June','July','August','September','October']\n",
    "\n",
    "#website to be scraped\n",
    "url= 'https://nclottery.com/PowerballPast'\n",
    "#Retrieve page with requests module\n",
    "response=requests.get(url)\n",
    "#Create BS object class_='content_title'\n",
    "soup=bs(response.text,'html.parser')\n",
    "results=soup.find_all('table',class_='datatable past_results')\n",
    "results"
   ]
  },
  {
   "cell_type": "code",
   "execution_count": 15,
   "metadata": {},
   "outputs": [],
   "source": [
    "executable_path = {'executable_path': 'chromedriver.exe'}\n",
    "browser = Browser('chrome', **executable_path, headless=False)\n",
    "urlR = url\n",
    "browser.visit(urlR)"
   ]
  },
  {
   "cell_type": "code",
   "execution_count": 17,
   "metadata": {},
   "outputs": [
    {
     "ename": "TypeError",
     "evalue": "find_by() missing 1 required positional argument: 'selector'",
     "output_type": "error",
     "traceback": [
      "\u001b[1;31m---------------------------------------------------------------------------\u001b[0m",
      "\u001b[1;31mTypeError\u001b[0m                                 Traceback (most recent call last)",
      "\u001b[1;32m<ipython-input-17-072428ad7135>\u001b[0m in \u001b[0;36m<module>\u001b[1;34m\u001b[0m\n\u001b[0;32m      1\u001b[0m \u001b[1;32mfor\u001b[0m \u001b[0mmonth\u001b[0m \u001b[1;32min\u001b[0m \u001b[0mmonths\u001b[0m\u001b[1;33m:\u001b[0m\u001b[1;33m\u001b[0m\u001b[1;33m\u001b[0m\u001b[0m\n\u001b[1;32m----> 2\u001b[1;33m     \u001b[0mmonthlyData\u001b[0m \u001b[1;33m=\u001b[0m \u001b[0mbrowser\u001b[0m\u001b[1;33m.\u001b[0m\u001b[0mfind_by\u001b[0m\u001b[1;33m(\u001b[0m\u001b[1;34m'ctl00_MainContent_ddlMonth'\u001b[0m\u001b[1;33m)\u001b[0m\u001b[1;33m\u001b[0m\u001b[1;33m\u001b[0m\u001b[0m\n\u001b[0m\u001b[0;32m      3\u001b[0m     \u001b[0mmonthlyData\u001b[0m\u001b[1;33m.\u001b[0m\u001b[0mclick\u001b[0m\u001b[1;33m(\u001b[0m\u001b[1;33m)\u001b[0m\u001b[1;33m\u001b[0m\u001b[1;33m\u001b[0m\u001b[0m\n\u001b[0;32m      4\u001b[0m     \u001b[1;32mif\u001b[0m \u001b[0mmonthlyData\u001b[0m \u001b[1;33m==\u001b[0m \u001b[0mmonth\u001b[0m\u001b[1;33m:\u001b[0m\u001b[1;33m\u001b[0m\u001b[1;33m\u001b[0m\u001b[0m\n\u001b[0;32m      5\u001b[0m         \u001b[0mnumData\u001b[0m\u001b[1;33m=\u001b[0m \u001b[0mbrowers\u001b[0m\u001b[1;33m.\u001b[0m\u001b[0mfind_by\u001b[0m\u001b[1;33m(\u001b[0m\u001b[1;34m'td'\u001b[0m\u001b[1;33m)\u001b[0m\u001b[1;33m\u001b[0m\u001b[1;33m\u001b[0m\u001b[0m\n",
      "\u001b[1;31mTypeError\u001b[0m: find_by() missing 1 required positional argument: 'selector'"
     ]
    }
   ],
   "source": [
    "for month in months: \n",
    "    monthlyData = browser.find_by('ctl00_MainContent_ddlMonth')\n",
    "    monthlyData.click()\n",
    "    if monthlyData == month: \n",
    "        numData=browers.find_by('td')\n",
    "        \n",
    "numData"
   ]
  },
  {
   "cell_type": "code",
   "execution_count": null,
   "metadata": {},
   "outputs": [],
   "source": []
  }
 ],
 "metadata": {
  "kernelspec": {
   "display_name": "Python 3",
   "language": "python",
   "name": "python3"
  },
  "language_info": {
   "codemirror_mode": {
    "name": "ipython",
    "version": 3
   },
   "file_extension": ".py",
   "mimetype": "text/x-python",
   "name": "python",
   "nbconvert_exporter": "python",
   "pygments_lexer": "ipython3",
   "version": "3.7.6"
  }
 },
 "nbformat": 4,
 "nbformat_minor": 4
}
